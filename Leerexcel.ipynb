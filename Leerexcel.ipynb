{
 "cells": [
  {
   "cell_type": "code",
   "execution_count": 2,
   "metadata": {},
   "outputs": [
    {
     "data": {
      "text/plain": [
       "polars.config.Config"
      ]
     },
     "execution_count": 2,
     "metadata": {},
     "output_type": "execute_result"
    }
   ],
   "source": [
    "import polars as pl\n",
    "from polars import Config\n",
    "\n",
    "Config.set_fmt_str_lengths(100)"
   ]
  },
  {
   "cell_type": "code",
   "execution_count": 3,
   "metadata": {},
   "outputs": [
    {
     "data": {
      "text/html": [
       "<div><style>\n",
       ".dataframe > thead > tr,\n",
       ".dataframe > tbody > tr {\n",
       "  text-align: right;\n",
       "  white-space: pre-wrap;\n",
       "}\n",
       "</style>\n",
       "<small>shape: (5, 10)</small><table border=\"1\" class=\"dataframe\"><thead><tr><th>Factura</th><th>ClienteID</th><th>Cliente</th><th>Tienda</th><th>Pais</th><th>Fecha Pedido</th><th>Fecha Entrega</th><th>Producto</th><th>Unidades</th><th>Precio</th></tr><tr><td>i64</td><td>i64</td><td>str</td><td>str</td><td>str</td><td>date</td><td>date</td><td>str</td><td>i64</td><td>f64</td></tr></thead><tbody><tr><td>53687</td><td>18812</td><td>&quot;Kyle Adams&quot;</td><td>&quot;ModCloth&quot;</td><td>&quot;Canada&quot;</td><td>2024-01-01</td><td>2024-01-12</td><td>&quot;Women&#x27;s Mountain Shorts, S&quot;</td><td>1</td><td>69.99</td></tr><tr><td>53673</td><td>27364</td><td>&quot;Cedric Li&quot;</td><td>&quot;BestBuy&quot;</td><td>&quot;Australia&quot;</td><td>2024-01-01</td><td>2024-01-08</td><td>&quot;Women&#x27;s Mountain Shorts, L&quot;</td><td>1</td><td>69.99</td></tr><tr><td>53663</td><td>12291</td><td>&quot;Johnathan Suri&quot;</td><td>&quot;Alibaba&quot;</td><td>&quot;Germany&quot;</td><td>2024-01-01</td><td>2024-01-11</td><td>&quot;Water Bottle - 30 oz.&quot;</td><td>1</td><td>4.99</td></tr><tr><td>53665</td><td>24537</td><td>&quot;Cynthia Saunders&quot;</td><td>&quot;GameStop&quot;</td><td>&quot;United Kingdom&quot;</td><td>2024-01-01</td><td>2024-01-11</td><td>&quot;Water Bottle - 30 oz.&quot;</td><td>1</td><td>4.99</td></tr><tr><td>53672</td><td>14683</td><td>&quot;Molly Sai&quot;</td><td>&quot;BestBuy&quot;</td><td>&quot;Australia&quot;</td><td>2024-01-01</td><td>2024-01-03</td><td>&quot;Water Bottle - 30 oz.&quot;</td><td>1</td><td>4.99</td></tr></tbody></table></div>"
      ],
      "text/plain": [
       "shape: (5, 10)\n",
       "┌─────────┬───────────┬─────────────┬──────────┬───┬─────────────┬─────────────┬──────────┬────────┐\n",
       "│ Factura ┆ ClienteID ┆ Cliente     ┆ Tienda   ┆ … ┆ Fecha       ┆ Producto    ┆ Unidades ┆ Precio │\n",
       "│ ---     ┆ ---       ┆ ---         ┆ ---      ┆   ┆ Entrega     ┆ ---         ┆ ---      ┆ ---    │\n",
       "│ i64     ┆ i64       ┆ str         ┆ str      ┆   ┆ ---         ┆ str         ┆ i64      ┆ f64    │\n",
       "│         ┆           ┆             ┆          ┆   ┆ date        ┆             ┆          ┆        │\n",
       "╞═════════╪═══════════╪═════════════╪══════════╪═══╪═════════════╪═════════════╪══════════╪════════╡\n",
       "│ 53687   ┆ 18812     ┆ Kyle Adams  ┆ ModCloth ┆ … ┆ 2024-01-12  ┆ Women's     ┆ 1        ┆ 69.99  │\n",
       "│         ┆           ┆             ┆          ┆   ┆             ┆ Mountain    ┆          ┆        │\n",
       "│         ┆           ┆             ┆          ┆   ┆             ┆ Shorts, S   ┆          ┆        │\n",
       "│ 53673   ┆ 27364     ┆ Cedric Li   ┆ BestBuy  ┆ … ┆ 2024-01-08  ┆ Women's     ┆ 1        ┆ 69.99  │\n",
       "│         ┆           ┆             ┆          ┆   ┆             ┆ Mountain    ┆          ┆        │\n",
       "│         ┆           ┆             ┆          ┆   ┆             ┆ Shorts, L   ┆          ┆        │\n",
       "│ 53663   ┆ 12291     ┆ Johnathan   ┆ Alibaba  ┆ … ┆ 2024-01-11  ┆ Water       ┆ 1        ┆ 4.99   │\n",
       "│         ┆           ┆ Suri        ┆          ┆   ┆             ┆ Bottle - 30 ┆          ┆        │\n",
       "│         ┆           ┆             ┆          ┆   ┆             ┆ oz.         ┆          ┆        │\n",
       "│ 53665   ┆ 24537     ┆ Cynthia     ┆ GameStop ┆ … ┆ 2024-01-11  ┆ Water       ┆ 1        ┆ 4.99   │\n",
       "│         ┆           ┆ Saunders    ┆          ┆   ┆             ┆ Bottle - 30 ┆          ┆        │\n",
       "│         ┆           ┆             ┆          ┆   ┆             ┆ oz.         ┆          ┆        │\n",
       "│ 53672   ┆ 14683     ┆ Molly Sai   ┆ BestBuy  ┆ … ┆ 2024-01-03  ┆ Water       ┆ 1        ┆ 4.99   │\n",
       "│         ┆           ┆             ┆          ┆   ┆             ┆ Bottle - 30 ┆          ┆        │\n",
       "│         ┆           ┆             ┆          ┆   ┆             ┆ oz.         ┆          ┆        │\n",
       "└─────────┴───────────┴─────────────┴──────────┴───┴─────────────┴─────────────┴──────────┴────────┘"
      ]
     },
     "execution_count": 3,
     "metadata": {},
     "output_type": "execute_result"
    }
   ],
   "source": [
    "pl.read_excel('ReporteVentas.xlsx').head()"
   ]
  },
  {
   "cell_type": "code",
   "execution_count": 4,
   "metadata": {},
   "outputs": [
    {
     "data": {
      "text/html": [
       "<div><style>\n",
       ".dataframe > thead > tr,\n",
       ".dataframe > tbody > tr {\n",
       "  text-align: right;\n",
       "  white-space: pre-wrap;\n",
       "}\n",
       "</style>\n",
       "<small>shape: (6_890, 10)</small><table border=\"1\" class=\"dataframe\"><thead><tr><th>Factura</th><th>ClienteID</th><th>Cliente</th><th>Tienda</th><th>Pais</th><th>Fecha Pedido</th><th>Fecha Entrega</th><th>Producto</th><th>Unidades</th><th>Precio</th></tr><tr><td>i64</td><td>i64</td><td>str</td><td>str</td><td>str</td><td>date</td><td>date</td><td>str</td><td>i64</td><td>f64</td></tr></thead><tbody><tr><td>55473</td><td>18809</td><td>&quot;Jason King&quot;</td><td>&quot;Walmart&quot;</td><td>&quot;United States&quot;</td><td>2024-02-01</td><td>2024-02-06</td><td>&quot;Women&#x27;s Mountain Shorts, S&quot;</td><td>1</td><td>69.99</td></tr><tr><td>55474</td><td>14502</td><td>&quot;Katelyn Wright&quot;</td><td>&quot;ModCloth&quot;</td><td>&quot;Canada&quot;</td><td>2024-02-01</td><td>2024-02-06</td><td>&quot;Women&#x27;s Mountain Shorts, S&quot;</td><td>1</td><td>69.99</td></tr><tr><td>55490</td><td>14104</td><td>&quot;Sydney James&quot;</td><td>&quot;Mr Porter&quot;</td><td>&quot;United States&quot;</td><td>2024-02-01</td><td>2024-02-10</td><td>&quot;Women&#x27;s Mountain Shorts, S&quot;</td><td>1</td><td>69.99</td></tr><tr><td>55459</td><td>27350</td><td>&quot;Arthur Subram&quot;</td><td>&quot;BestBuy&quot;</td><td>&quot;Australia&quot;</td><td>2024-02-01</td><td>2024-02-05</td><td>&quot;Women&#x27;s Mountain Shorts, M&quot;</td><td>1</td><td>69.99</td></tr><tr><td>55454</td><td>12213</td><td>&quot;Alejandro Lal&quot;</td><td>&quot;Alibaba&quot;</td><td>&quot;Germany&quot;</td><td>2024-02-01</td><td>2024-02-10</td><td>&quot;Water Bottle - 30 oz.&quot;</td><td>1</td><td>4.99</td></tr><tr><td>&hellip;</td><td>&hellip;</td><td>&hellip;</td><td>&hellip;</td><td>&hellip;</td><td>&hellip;</td><td>&hellip;</td><td>&hellip;</td><td>&hellip;</td><td>&hellip;</td></tr><tr><td>57209</td><td>16950</td><td>&quot;Connor Edwards&quot;</td><td>&quot;ModCloth&quot;</td><td>&quot;Canada&quot;</td><td>2024-02-28</td><td>2024-03-05</td><td>&quot;AWC Logo Cap&quot;</td><td>1</td><td>8.99</td></tr><tr><td>57226</td><td>19162</td><td>&quot;Peter Raji&quot;</td><td>&quot;Mr Porter&quot;</td><td>&quot;United States&quot;</td><td>2024-02-28</td><td>2024-03-09</td><td>&quot;AWC Logo Cap&quot;</td><td>1</td><td>8.99</td></tr><tr><td>57235</td><td>28871</td><td>&quot;Jasmine West&quot;</td><td>&quot;Walmart&quot;</td><td>&quot;United States&quot;</td><td>2024-02-28</td><td>2024-03-07</td><td>&quot;AWC Logo Cap&quot;</td><td>1</td><td>8.99</td></tr><tr><td>57240</td><td>11238</td><td>&quot;Mayra Prasad&quot;</td><td>&quot;GameStop&quot;</td><td>&quot;United Kingdom&quot;</td><td>2024-02-28</td><td>2024-03-06</td><td>&quot;AWC Logo Cap&quot;</td><td>1</td><td>8.99</td></tr><tr><td>56929</td><td>14594</td><td>&quot;Lauren Taylor&quot;</td><td>&quot;Mr Porter&quot;</td><td>&quot;United States&quot;</td><td>2024-02-28</td><td>2024-03-06</td><td>&quot;All-Purpose Bike Stand&quot;</td><td>1</td><td>159.0</td></tr></tbody></table></div>"
      ],
      "text/plain": [
       "shape: (6_890, 10)\n",
       "┌─────────┬───────────┬─────────────┬───────────┬───┬─────────────┬────────────┬──────────┬────────┐\n",
       "│ Factura ┆ ClienteID ┆ Cliente     ┆ Tienda    ┆ … ┆ Fecha       ┆ Producto   ┆ Unidades ┆ Precio │\n",
       "│ ---     ┆ ---       ┆ ---         ┆ ---       ┆   ┆ Entrega     ┆ ---        ┆ ---      ┆ ---    │\n",
       "│ i64     ┆ i64       ┆ str         ┆ str       ┆   ┆ ---         ┆ str        ┆ i64      ┆ f64    │\n",
       "│         ┆           ┆             ┆           ┆   ┆ date        ┆            ┆          ┆        │\n",
       "╞═════════╪═══════════╪═════════════╪═══════════╪═══╪═════════════╪════════════╪══════════╪════════╡\n",
       "│ 55473   ┆ 18809     ┆ Jason King  ┆ Walmart   ┆ … ┆ 2024-02-06  ┆ Women's    ┆ 1        ┆ 69.99  │\n",
       "│         ┆           ┆             ┆           ┆   ┆             ┆ Mountain   ┆          ┆        │\n",
       "│         ┆           ┆             ┆           ┆   ┆             ┆ Shorts, S  ┆          ┆        │\n",
       "│ 55474   ┆ 14502     ┆ Katelyn     ┆ ModCloth  ┆ … ┆ 2024-02-06  ┆ Women's    ┆ 1        ┆ 69.99  │\n",
       "│         ┆           ┆ Wright      ┆           ┆   ┆             ┆ Mountain   ┆          ┆        │\n",
       "│         ┆           ┆             ┆           ┆   ┆             ┆ Shorts, S  ┆          ┆        │\n",
       "│ 55490   ┆ 14104     ┆ Sydney      ┆ Mr Porter ┆ … ┆ 2024-02-10  ┆ Women's    ┆ 1        ┆ 69.99  │\n",
       "│         ┆           ┆ James       ┆           ┆   ┆             ┆ Mountain   ┆          ┆        │\n",
       "│         ┆           ┆             ┆           ┆   ┆             ┆ Shorts, S  ┆          ┆        │\n",
       "│ 55459   ┆ 27350     ┆ Arthur      ┆ BestBuy   ┆ … ┆ 2024-02-05  ┆ Women's    ┆ 1        ┆ 69.99  │\n",
       "│         ┆           ┆ Subram      ┆           ┆   ┆             ┆ Mountain   ┆          ┆        │\n",
       "│         ┆           ┆             ┆           ┆   ┆             ┆ Shorts, M  ┆          ┆        │\n",
       "│ 55454   ┆ 12213     ┆ Alejandro   ┆ Alibaba   ┆ … ┆ 2024-02-10  ┆ Water      ┆ 1        ┆ 4.99   │\n",
       "│         ┆           ┆ Lal         ┆           ┆   ┆             ┆ Bottle -   ┆          ┆        │\n",
       "│         ┆           ┆             ┆           ┆   ┆             ┆ 30 oz.     ┆          ┆        │\n",
       "│ …       ┆ …         ┆ …           ┆ …         ┆ … ┆ …           ┆ …          ┆ …        ┆ …      │\n",
       "│ 57209   ┆ 16950     ┆ Connor      ┆ ModCloth  ┆ … ┆ 2024-03-05  ┆ AWC Logo   ┆ 1        ┆ 8.99   │\n",
       "│         ┆           ┆ Edwards     ┆           ┆   ┆             ┆ Cap        ┆          ┆        │\n",
       "│ 57226   ┆ 19162     ┆ Peter Raji  ┆ Mr Porter ┆ … ┆ 2024-03-09  ┆ AWC Logo   ┆ 1        ┆ 8.99   │\n",
       "│         ┆           ┆             ┆           ┆   ┆             ┆ Cap        ┆          ┆        │\n",
       "│ 57235   ┆ 28871     ┆ Jasmine     ┆ Walmart   ┆ … ┆ 2024-03-07  ┆ AWC Logo   ┆ 1        ┆ 8.99   │\n",
       "│         ┆           ┆ West        ┆           ┆   ┆             ┆ Cap        ┆          ┆        │\n",
       "│ 57240   ┆ 11238     ┆ Mayra       ┆ GameStop  ┆ … ┆ 2024-03-06  ┆ AWC Logo   ┆ 1        ┆ 8.99   │\n",
       "│         ┆           ┆ Prasad      ┆           ┆   ┆             ┆ Cap        ┆          ┆        │\n",
       "│ 56929   ┆ 14594     ┆ Lauren      ┆ Mr Porter ┆ … ┆ 2024-03-06  ┆ All-Purpos ┆ 1        ┆ 159.0  │\n",
       "│         ┆           ┆ Taylor      ┆           ┆   ┆             ┆ e Bike     ┆          ┆        │\n",
       "│         ┆           ┆             ┆           ┆   ┆             ┆ Stand      ┆          ┆        │\n",
       "└─────────┴───────────┴─────────────┴───────────┴───┴─────────────┴────────────┴──────────┴────────┘"
      ]
     },
     "execution_count": 4,
     "metadata": {},
     "output_type": "execute_result"
    }
   ],
   "source": [
    "##leyendo hoja en especifica 2 formas\n",
    "pl.read_excel(source='ReporteVentas.xlsx',\n",
    "              sheet_id=2)  ##sheetid o sheetname"
   ]
  },
  {
   "cell_type": "code",
   "execution_count": 5,
   "metadata": {},
   "outputs": [],
   "source": [
    "##leer mas de una hoja\n",
    "data=pl.read_excel(source='ReporteVentas.xlsx',\n",
    "              sheet_id=[1,5,7])\n"
   ]
  },
  {
   "cell_type": "code",
   "execution_count": 6,
   "metadata": {},
   "outputs": [
    {
     "data": {
      "text/html": [
       "<div><style>\n",
       ".dataframe > thead > tr,\n",
       ".dataframe > tbody > tr {\n",
       "  text-align: right;\n",
       "  white-space: pre-wrap;\n",
       "}\n",
       "</style>\n",
       "<small>shape: (4_281, 10)</small><table border=\"1\" class=\"dataframe\"><thead><tr><th>Factura</th><th>ClienteID</th><th>Cliente</th><th>Tienda</th><th>Pais</th><th>Fecha Pedido</th><th>Fecha Entrega</th><th>Producto</th><th>Unidades</th><th>Precio</th></tr><tr><td>i64</td><td>i64</td><td>str</td><td>str</td><td>str</td><td>date</td><td>date</td><td>str</td><td>i64</td><td>f64</td></tr></thead><tbody><tr><td>65516</td><td>21936</td><td>&quot;Emma Reed&quot;</td><td>&quot;Mr Porter&quot;</td><td>&quot;United States&quot;</td><td>2024-07-01</td><td>2024-07-11</td><td>&quot;Water Bottle - 30 oz.&quot;</td><td>1</td><td>4.99</td></tr><tr><td>65517</td><td>20655</td><td>&quot;Edward Butler&quot;</td><td>&quot;Walmart&quot;</td><td>&quot;United States&quot;</td><td>2024-07-01</td><td>2024-07-03</td><td>&quot;Water Bottle - 30 oz.&quot;</td><td>1</td><td>4.99</td></tr><tr><td>65518</td><td>20408</td><td>&quot;Isaac Morgan&quot;</td><td>&quot;Walmart&quot;</td><td>&quot;United States&quot;</td><td>2024-07-01</td><td>2024-07-09</td><td>&quot;Water Bottle - 30 oz.&quot;</td><td>1</td><td>4.99</td></tr><tr><td>65519</td><td>12969</td><td>&quot;Richard Rodriguez&quot;</td><td>&quot;ModCloth&quot;</td><td>&quot;Canada&quot;</td><td>2024-07-01</td><td>2024-07-12</td><td>&quot;Water Bottle - 30 oz.&quot;</td><td>1</td><td>4.99</td></tr><tr><td>65520</td><td>11711</td><td>&quot;Daniel Davis&quot;</td><td>&quot;ModCloth&quot;</td><td>&quot;Canada&quot;</td><td>2024-07-01</td><td>2024-07-08</td><td>&quot;Water Bottle - 30 oz.&quot;</td><td>1</td><td>4.99</td></tr><tr><td>&hellip;</td><td>&hellip;</td><td>&hellip;</td><td>&hellip;</td><td>&hellip;</td><td>&hellip;</td><td>&hellip;</td><td>&hellip;</td><td>&hellip;</td><td>&hellip;</td></tr><tr><td>67247</td><td>27597</td><td>&quot;Carl Jai&quot;</td><td>&quot;BestBuy&quot;</td><td>&quot;Australia&quot;</td><td>2024-07-28</td><td>2024-08-04</td><td>&quot;Bike Wash - Dissolver&quot;</td><td>1</td><td>7.95</td></tr><tr><td>67205</td><td>15209</td><td>&quot;Frank Romero&quot;</td><td>&quot;BestBuy&quot;</td><td>&quot;Australia&quot;</td><td>2024-07-28</td><td>2024-08-05</td><td>&quot;AWC Logo Cap&quot;</td><td>1</td><td>8.99</td></tr><tr><td>67231</td><td>13815</td><td>&quot;Lacey Lin&quot;</td><td>&quot;GameStop&quot;</td><td>&quot;United Kingdom&quot;</td><td>2024-07-28</td><td>2024-08-06</td><td>&quot;AWC Logo Cap&quot;</td><td>1</td><td>8.99</td></tr><tr><td>67232</td><td>25696</td><td>&quot;Damien Luo&quot;</td><td>&quot;Nasty Gal&quot;</td><td>&quot;France&quot;</td><td>2024-07-28</td><td>2024-08-03</td><td>&quot;AWC Logo Cap&quot;</td><td>1</td><td>8.99</td></tr><tr><td>67259</td><td>11489</td><td>&quot;Deborah Goel&quot;</td><td>&quot;GameStop&quot;</td><td>&quot;United Kingdom&quot;</td><td>2024-07-28</td><td>2024-08-09</td><td>&quot;AWC Logo Cap&quot;</td><td>1</td><td>8.99</td></tr></tbody></table></div>"
      ],
      "text/plain": [
       "shape: (4_281, 10)\n",
       "┌─────────┬───────────┬─────────────┬───────────┬───┬─────────────┬────────────┬──────────┬────────┐\n",
       "│ Factura ┆ ClienteID ┆ Cliente     ┆ Tienda    ┆ … ┆ Fecha       ┆ Producto   ┆ Unidades ┆ Precio │\n",
       "│ ---     ┆ ---       ┆ ---         ┆ ---       ┆   ┆ Entrega     ┆ ---        ┆ ---      ┆ ---    │\n",
       "│ i64     ┆ i64       ┆ str         ┆ str       ┆   ┆ ---         ┆ str        ┆ i64      ┆ f64    │\n",
       "│         ┆           ┆             ┆           ┆   ┆ date        ┆            ┆          ┆        │\n",
       "╞═════════╪═══════════╪═════════════╪═══════════╪═══╪═════════════╪════════════╪══════════╪════════╡\n",
       "│ 65516   ┆ 21936     ┆ Emma Reed   ┆ Mr Porter ┆ … ┆ 2024-07-11  ┆ Water      ┆ 1        ┆ 4.99   │\n",
       "│         ┆           ┆             ┆           ┆   ┆             ┆ Bottle -   ┆          ┆        │\n",
       "│         ┆           ┆             ┆           ┆   ┆             ┆ 30 oz.     ┆          ┆        │\n",
       "│ 65517   ┆ 20655     ┆ Edward      ┆ Walmart   ┆ … ┆ 2024-07-03  ┆ Water      ┆ 1        ┆ 4.99   │\n",
       "│         ┆           ┆ Butler      ┆           ┆   ┆             ┆ Bottle -   ┆          ┆        │\n",
       "│         ┆           ┆             ┆           ┆   ┆             ┆ 30 oz.     ┆          ┆        │\n",
       "│ 65518   ┆ 20408     ┆ Isaac       ┆ Walmart   ┆ … ┆ 2024-07-09  ┆ Water      ┆ 1        ┆ 4.99   │\n",
       "│         ┆           ┆ Morgan      ┆           ┆   ┆             ┆ Bottle -   ┆          ┆        │\n",
       "│         ┆           ┆             ┆           ┆   ┆             ┆ 30 oz.     ┆          ┆        │\n",
       "│ 65519   ┆ 12969     ┆ Richard     ┆ ModCloth  ┆ … ┆ 2024-07-12  ┆ Water      ┆ 1        ┆ 4.99   │\n",
       "│         ┆           ┆ Rodriguez   ┆           ┆   ┆             ┆ Bottle -   ┆          ┆        │\n",
       "│         ┆           ┆             ┆           ┆   ┆             ┆ 30 oz.     ┆          ┆        │\n",
       "│ 65520   ┆ 11711     ┆ Daniel      ┆ ModCloth  ┆ … ┆ 2024-07-08  ┆ Water      ┆ 1        ┆ 4.99   │\n",
       "│         ┆           ┆ Davis       ┆           ┆   ┆             ┆ Bottle -   ┆          ┆        │\n",
       "│         ┆           ┆             ┆           ┆   ┆             ┆ 30 oz.     ┆          ┆        │\n",
       "│ …       ┆ …         ┆ …           ┆ …         ┆ … ┆ …           ┆ …          ┆ …        ┆ …      │\n",
       "│ 67247   ┆ 27597     ┆ Carl Jai    ┆ BestBuy   ┆ … ┆ 2024-08-04  ┆ Bike Wash  ┆ 1        ┆ 7.95   │\n",
       "│         ┆           ┆             ┆           ┆   ┆             ┆ -          ┆          ┆        │\n",
       "│         ┆           ┆             ┆           ┆   ┆             ┆ Dissolver  ┆          ┆        │\n",
       "│ 67205   ┆ 15209     ┆ Frank       ┆ BestBuy   ┆ … ┆ 2024-08-05  ┆ AWC Logo   ┆ 1        ┆ 8.99   │\n",
       "│         ┆           ┆ Romero      ┆           ┆   ┆             ┆ Cap        ┆          ┆        │\n",
       "│ 67231   ┆ 13815     ┆ Lacey Lin   ┆ GameStop  ┆ … ┆ 2024-08-06  ┆ AWC Logo   ┆ 1        ┆ 8.99   │\n",
       "│         ┆           ┆             ┆           ┆   ┆             ┆ Cap        ┆          ┆        │\n",
       "│ 67232   ┆ 25696     ┆ Damien Luo  ┆ Nasty Gal ┆ … ┆ 2024-08-03  ┆ AWC Logo   ┆ 1        ┆ 8.99   │\n",
       "│         ┆           ┆             ┆           ┆   ┆             ┆ Cap        ┆          ┆        │\n",
       "│ 67259   ┆ 11489     ┆ Deborah     ┆ GameStop  ┆ … ┆ 2024-08-09  ┆ AWC Logo   ┆ 1        ┆ 8.99   │\n",
       "│         ┆           ┆ Goel        ┆           ┆   ┆             ┆ Cap        ┆          ┆        │\n",
       "└─────────┴───────────┴─────────────┴───────────┴───┴─────────────┴────────────┴──────────┴────────┘"
      ]
     },
     "execution_count": 6,
     "metadata": {},
     "output_type": "execute_result"
    }
   ],
   "source": [
    "data['Julio']"
   ]
  },
  {
   "cell_type": "code",
   "execution_count": 7,
   "metadata": {},
   "outputs": [
    {
     "data": {
      "text/plain": [
       "dict_values([shape: (5_900, 10)\n",
       "┌─────────┬───────────┬─────────────┬───────────┬───┬─────────────┬────────────┬──────────┬────────┐\n",
       "│ Factura ┆ ClienteID ┆ Cliente     ┆ Tienda    ┆ … ┆ Fecha       ┆ Producto   ┆ Unidades ┆ Precio │\n",
       "│ ---     ┆ ---       ┆ ---         ┆ ---       ┆   ┆ Entrega     ┆ ---        ┆ ---      ┆ ---    │\n",
       "│ i64     ┆ i64       ┆ str         ┆ str       ┆   ┆ ---         ┆ str        ┆ i64      ┆ f64    │\n",
       "│         ┆           ┆             ┆           ┆   ┆ date        ┆            ┆          ┆        │\n",
       "╞═════════╪═══════════╪═════════════╪═══════════╪═══╪═════════════╪════════════╪══════════╪════════╡\n",
       "│ 53687   ┆ 18812     ┆ Kyle Adams  ┆ ModCloth  ┆ … ┆ 2024-01-12  ┆ Women's    ┆ 1        ┆ 69.99  │\n",
       "│         ┆           ┆             ┆           ┆   ┆             ┆ Mountain   ┆          ┆        │\n",
       "│         ┆           ┆             ┆           ┆   ┆             ┆ Shorts, S  ┆          ┆        │\n",
       "│ 53673   ┆ 27364     ┆ Cedric Li   ┆ BestBuy   ┆ … ┆ 2024-01-08  ┆ Women's    ┆ 1        ┆ 69.99  │\n",
       "│         ┆           ┆             ┆           ┆   ┆             ┆ Mountain   ┆          ┆        │\n",
       "│         ┆           ┆             ┆           ┆   ┆             ┆ Shorts, L  ┆          ┆        │\n",
       "│ 53663   ┆ 12291     ┆ Johnathan   ┆ Alibaba   ┆ … ┆ 2024-01-11  ┆ Water      ┆ 1        ┆ 4.99   │\n",
       "│         ┆           ┆ Suri        ┆           ┆   ┆             ┆ Bottle -   ┆          ┆        │\n",
       "│         ┆           ┆             ┆           ┆   ┆             ┆ 30 oz.     ┆          ┆        │\n",
       "│ 53665   ┆ 24537     ┆ Cynthia     ┆ GameStop  ┆ … ┆ 2024-01-11  ┆ Water      ┆ 1        ┆ 4.99   │\n",
       "│         ┆           ┆ Saunders    ┆           ┆   ┆             ┆ Bottle -   ┆          ┆        │\n",
       "│         ┆           ┆             ┆           ┆   ┆             ┆ 30 oz.     ┆          ┆        │\n",
       "│ 53672   ┆ 14683     ┆ Molly Sai   ┆ BestBuy   ┆ … ┆ 2024-01-03  ┆ Water      ┆ 1        ┆ 4.99   │\n",
       "│         ┆           ┆             ┆           ┆   ┆             ┆ Bottle -   ┆          ┆        │\n",
       "│         ┆           ┆             ┆           ┆   ┆             ┆ 30 oz.     ┆          ┆        │\n",
       "│ …       ┆ …         ┆ …           ┆ …         ┆ … ┆ …           ┆ …          ┆ …        ┆ …      │\n",
       "│ 55422   ┆ 20871     ┆ Adriana     ┆ Alibaba   ┆ … ┆ 2024-02-09  ┆ AWC Logo   ┆ 1        ┆ 8.99   │\n",
       "│         ┆           ┆ Arthur      ┆           ┆   ┆             ┆ Cap        ┆          ┆        │\n",
       "│ 55423   ┆ 23228     ┆ Candice Guo ┆ Alibaba   ┆ … ┆ 2024-02-10  ┆ AWC Logo   ┆ 1        ┆ 8.99   │\n",
       "│         ┆           ┆             ┆           ┆   ┆             ┆ Cap        ┆          ┆        │\n",
       "│ 55436   ┆ 12262     ┆ Morgan      ┆ GameStop  ┆ … ┆ 2024-02-05  ┆ AWC Logo   ┆ 1        ┆ 8.99   │\n",
       "│         ┆           ┆ Sanchez     ┆           ┆   ┆             ┆ Cap        ┆          ┆        │\n",
       "│ 55439   ┆ 14017     ┆ Chloe       ┆ Mr Porter ┆ … ┆ 2024-02-02  ┆ AWC Logo   ┆ 1        ┆ 8.99   │\n",
       "│         ┆           ┆ Rodriguez   ┆           ┆   ┆             ┆ Cap        ┆          ┆        │\n",
       "│ 55402   ┆ 26792     ┆ Casey       ┆ Mr Porter ┆ … ┆ 2024-02-02  ┆ All-Purpos ┆ 1        ┆ 159.0  │\n",
       "│         ┆           ┆ Torres      ┆           ┆   ┆             ┆ e Bike     ┆          ┆        │\n",
       "│         ┆           ┆             ┆           ┆   ┆             ┆ Stand      ┆          ┆        │\n",
       "└─────────┴───────────┴─────────────┴───────────┴───┴─────────────┴────────────┴──────────┴────────┘, shape: (6_753, 10)\n",
       "┌─────────┬───────────┬─────────┬───────────┬───┬───────────────┬──────────────┬──────────┬────────┐\n",
       "│ Factura ┆ ClienteID ┆ Cliente ┆ Tienda    ┆ … ┆ Fecha Entrega ┆ Producto     ┆ Unidades ┆ Precio │\n",
       "│ ---     ┆ ---       ┆ ---     ┆ ---       ┆   ┆ ---           ┆ ---          ┆ ---      ┆ ---    │\n",
       "│ i64     ┆ i64       ┆ str     ┆ str       ┆   ┆ date          ┆ str          ┆ i64      ┆ f64    │\n",
       "╞═════════╪═══════════╪═════════╪═══════════╪═══╪═══════════════╪══════════════╪══════════╪════════╡\n",
       "│ 61336   ┆ 19876     ┆ Nathan  ┆ Mr Porter ┆ … ┆ 2024-05-08    ┆ Women's      ┆ 1        ┆ 69.99  │\n",
       "│         ┆           ┆ Edwards ┆           ┆   ┆               ┆ Mountain     ┆          ┆        │\n",
       "│         ┆           ┆         ┆           ┆   ┆               ┆ Shorts, S    ┆          ┆        │\n",
       "│ 61335   ┆ 19864     ┆ Isaiah  ┆ Walmart   ┆ … ┆ 2024-05-10    ┆ Women's      ┆ 1        ┆ 69.99  │\n",
       "│         ┆           ┆ Brooks  ┆           ┆   ┆               ┆ Mountain     ┆          ┆        │\n",
       "│         ┆           ┆         ┆           ┆   ┆               ┆ Shorts, L    ┆          ┆        │\n",
       "│ 61320   ┆ 28943     ┆ Arthur  ┆ BestBuy   ┆ … ┆ 2024-05-12    ┆ Water Bottle ┆ 1        ┆ 4.99   │\n",
       "│         ┆           ┆ Martin  ┆           ┆   ┆               ┆ - 30 oz.     ┆          ┆        │\n",
       "│ 61337   ┆ 26802     ┆ Lucas   ┆ ModCloth  ┆ … ┆ 2024-05-07    ┆ Water Bottle ┆ 1        ┆ 4.99   │\n",
       "│         ┆           ┆ Sanders ┆           ┆   ┆               ┆ - 30 oz.     ┆          ┆        │\n",
       "│ 61340   ┆ 13737     ┆ Garrett ┆ Mr Porter ┆ … ┆ 2024-05-11    ┆ Water Bottle ┆ 1        ┆ 4.99   │\n",
       "│         ┆           ┆ Sanders ┆           ┆   ┆               ┆ - 30 oz.     ┆          ┆        │\n",
       "│ …       ┆ …         ┆ …       ┆ …         ┆ … ┆ …             ┆ …            ┆ …        ┆ …      │\n",
       "│ 63332   ┆ 25733     ┆ Joanna  ┆ Nasty Gal ┆ … ┆ 2024-06-08    ┆ AWC Logo Cap ┆ 1        ┆ 8.99   │\n",
       "│         ┆           ┆ Blanco  ┆           ┆   ┆               ┆              ┆          ┆        │\n",
       "│ 63334   ┆ 11579     ┆ Clayton ┆ GameStop  ┆ … ┆ 2024-06-03    ┆ AWC Logo Cap ┆ 1        ┆ 8.99   │\n",
       "│         ┆           ┆ Beck    ┆           ┆   ┆               ┆              ┆          ┆        │\n",
       "│ 63344   ┆ 11413     ┆ Megan   ┆ GameStop  ┆ … ┆ 2024-06-10    ┆ AWC Logo Cap ┆ 1        ┆ 8.99   │\n",
       "│         ┆           ┆ Stewart ┆           ┆   ┆               ┆              ┆          ┆        │\n",
       "│ 63359   ┆ 24114     ┆ Kristin ┆ GameStop  ┆ … ┆ 2024-06-05    ┆ AWC Logo Cap ┆ 1        ┆ 8.99   │\n",
       "│         ┆           ┆ Yuan    ┆           ┆   ┆               ┆              ┆          ┆        │\n",
       "│ 63329   ┆ 11137     ┆ Jasmine ┆ Walmart   ┆ … ┆ 2024-06-09    ┆ All-Purpose  ┆ 1        ┆ 159.0  │\n",
       "│         ┆           ┆ Taylor  ┆           ┆   ┆               ┆ Bike Stand   ┆          ┆        │\n",
       "└─────────┴───────────┴─────────┴───────────┴───┴───────────────┴──────────────┴──────────┴────────┘, shape: (4_281, 10)\n",
       "┌─────────┬───────────┬─────────────┬───────────┬───┬─────────────┬────────────┬──────────┬────────┐\n",
       "│ Factura ┆ ClienteID ┆ Cliente     ┆ Tienda    ┆ … ┆ Fecha       ┆ Producto   ┆ Unidades ┆ Precio │\n",
       "│ ---     ┆ ---       ┆ ---         ┆ ---       ┆   ┆ Entrega     ┆ ---        ┆ ---      ┆ ---    │\n",
       "│ i64     ┆ i64       ┆ str         ┆ str       ┆   ┆ ---         ┆ str        ┆ i64      ┆ f64    │\n",
       "│         ┆           ┆             ┆           ┆   ┆ date        ┆            ┆          ┆        │\n",
       "╞═════════╪═══════════╪═════════════╪═══════════╪═══╪═════════════╪════════════╪══════════╪════════╡\n",
       "│ 65516   ┆ 21936     ┆ Emma Reed   ┆ Mr Porter ┆ … ┆ 2024-07-11  ┆ Water      ┆ 1        ┆ 4.99   │\n",
       "│         ┆           ┆             ┆           ┆   ┆             ┆ Bottle -   ┆          ┆        │\n",
       "│         ┆           ┆             ┆           ┆   ┆             ┆ 30 oz.     ┆          ┆        │\n",
       "│ 65517   ┆ 20655     ┆ Edward      ┆ Walmart   ┆ … ┆ 2024-07-03  ┆ Water      ┆ 1        ┆ 4.99   │\n",
       "│         ┆           ┆ Butler      ┆           ┆   ┆             ┆ Bottle -   ┆          ┆        │\n",
       "│         ┆           ┆             ┆           ┆   ┆             ┆ 30 oz.     ┆          ┆        │\n",
       "│ 65518   ┆ 20408     ┆ Isaac       ┆ Walmart   ┆ … ┆ 2024-07-09  ┆ Water      ┆ 1        ┆ 4.99   │\n",
       "│         ┆           ┆ Morgan      ┆           ┆   ┆             ┆ Bottle -   ┆          ┆        │\n",
       "│         ┆           ┆             ┆           ┆   ┆             ┆ 30 oz.     ┆          ┆        │\n",
       "│ 65519   ┆ 12969     ┆ Richard     ┆ ModCloth  ┆ … ┆ 2024-07-12  ┆ Water      ┆ 1        ┆ 4.99   │\n",
       "│         ┆           ┆ Rodriguez   ┆           ┆   ┆             ┆ Bottle -   ┆          ┆        │\n",
       "│         ┆           ┆             ┆           ┆   ┆             ┆ 30 oz.     ┆          ┆        │\n",
       "│ 65520   ┆ 11711     ┆ Daniel      ┆ ModCloth  ┆ … ┆ 2024-07-08  ┆ Water      ┆ 1        ┆ 4.99   │\n",
       "│         ┆           ┆ Davis       ┆           ┆   ┆             ┆ Bottle -   ┆          ┆        │\n",
       "│         ┆           ┆             ┆           ┆   ┆             ┆ 30 oz.     ┆          ┆        │\n",
       "│ …       ┆ …         ┆ …           ┆ …         ┆ … ┆ …           ┆ …          ┆ …        ┆ …      │\n",
       "│ 67247   ┆ 27597     ┆ Carl Jai    ┆ BestBuy   ┆ … ┆ 2024-08-04  ┆ Bike Wash  ┆ 1        ┆ 7.95   │\n",
       "│         ┆           ┆             ┆           ┆   ┆             ┆ -          ┆          ┆        │\n",
       "│         ┆           ┆             ┆           ┆   ┆             ┆ Dissolver  ┆          ┆        │\n",
       "│ 67205   ┆ 15209     ┆ Frank       ┆ BestBuy   ┆ … ┆ 2024-08-05  ┆ AWC Logo   ┆ 1        ┆ 8.99   │\n",
       "│         ┆           ┆ Romero      ┆           ┆   ┆             ┆ Cap        ┆          ┆        │\n",
       "│ 67231   ┆ 13815     ┆ Lacey Lin   ┆ GameStop  ┆ … ┆ 2024-08-06  ┆ AWC Logo   ┆ 1        ┆ 8.99   │\n",
       "│         ┆           ┆             ┆           ┆   ┆             ┆ Cap        ┆          ┆        │\n",
       "│ 67232   ┆ 25696     ┆ Damien Luo  ┆ Nasty Gal ┆ … ┆ 2024-08-03  ┆ AWC Logo   ┆ 1        ┆ 8.99   │\n",
       "│         ┆           ┆             ┆           ┆   ┆             ┆ Cap        ┆          ┆        │\n",
       "│ 67259   ┆ 11489     ┆ Deborah     ┆ GameStop  ┆ … ┆ 2024-08-09  ┆ AWC Logo   ┆ 1        ┆ 8.99   │\n",
       "│         ┆           ┆ Goel        ┆           ┆   ┆             ┆ Cap        ┆          ┆        │\n",
       "└─────────┴───────────┴─────────────┴───────────┴───┴─────────────┴────────────┴──────────┴────────┘])"
      ]
     },
     "execution_count": 7,
     "metadata": {},
     "output_type": "execute_result"
    }
   ],
   "source": [
    "data.values()   ##traer todos los valores que tiene un diccionario ,sus df"
   ]
  },
  {
   "cell_type": "code",
   "execution_count": 32,
   "metadata": {},
   "outputs": [
    {
     "data": {
      "text/html": [
       "<div><style>\n",
       ".dataframe > thead > tr,\n",
       ".dataframe > tbody > tr {\n",
       "  text-align: right;\n",
       "  white-space: pre-wrap;\n",
       "}\n",
       "</style>\n",
       "<small>shape: (5, 10)</small><table border=\"1\" class=\"dataframe\"><thead><tr><th>Factura</th><th>ClienteID</th><th>Cliente</th><th>Tienda</th><th>Pais</th><th>Fecha Pedido</th><th>Fecha Entrega</th><th>Producto</th><th>Unidades</th><th>Precio</th></tr><tr><td>i64</td><td>i64</td><td>str</td><td>str</td><td>str</td><td>date</td><td>date</td><td>str</td><td>i64</td><td>f64</td></tr></thead><tbody><tr><td>53687</td><td>18812</td><td>&quot;Kyle Adams&quot;</td><td>&quot;ModCloth&quot;</td><td>&quot;Canada&quot;</td><td>2024-01-01</td><td>2024-01-12</td><td>&quot;Women&#x27;s Mountain Shorts, S&quot;</td><td>1</td><td>69.99</td></tr><tr><td>53673</td><td>27364</td><td>&quot;Cedric Li&quot;</td><td>&quot;BestBuy&quot;</td><td>&quot;Australia&quot;</td><td>2024-01-01</td><td>2024-01-08</td><td>&quot;Women&#x27;s Mountain Shorts, L&quot;</td><td>1</td><td>69.99</td></tr><tr><td>53663</td><td>12291</td><td>&quot;Johnathan Suri&quot;</td><td>&quot;Alibaba&quot;</td><td>&quot;Germany&quot;</td><td>2024-01-01</td><td>2024-01-11</td><td>&quot;Water Bottle - 30 oz.&quot;</td><td>1</td><td>4.99</td></tr><tr><td>53665</td><td>24537</td><td>&quot;Cynthia Saunders&quot;</td><td>&quot;GameStop&quot;</td><td>&quot;United Kingdom&quot;</td><td>2024-01-01</td><td>2024-01-11</td><td>&quot;Water Bottle - 30 oz.&quot;</td><td>1</td><td>4.99</td></tr><tr><td>53672</td><td>14683</td><td>&quot;Molly Sai&quot;</td><td>&quot;BestBuy&quot;</td><td>&quot;Australia&quot;</td><td>2024-01-01</td><td>2024-01-03</td><td>&quot;Water Bottle - 30 oz.&quot;</td><td>1</td><td>4.99</td></tr></tbody></table></div>"
      ],
      "text/plain": [
       "shape: (5, 10)\n",
       "┌─────────┬───────────┬─────────────┬──────────┬───┬─────────────┬─────────────┬──────────┬────────┐\n",
       "│ Factura ┆ ClienteID ┆ Cliente     ┆ Tienda   ┆ … ┆ Fecha       ┆ Producto    ┆ Unidades ┆ Precio │\n",
       "│ ---     ┆ ---       ┆ ---         ┆ ---      ┆   ┆ Entrega     ┆ ---         ┆ ---      ┆ ---    │\n",
       "│ i64     ┆ i64       ┆ str         ┆ str      ┆   ┆ ---         ┆ str         ┆ i64      ┆ f64    │\n",
       "│         ┆           ┆             ┆          ┆   ┆ date        ┆             ┆          ┆        │\n",
       "╞═════════╪═══════════╪═════════════╪══════════╪═══╪═════════════╪═════════════╪══════════╪════════╡\n",
       "│ 53687   ┆ 18812     ┆ Kyle Adams  ┆ ModCloth ┆ … ┆ 2024-01-12  ┆ Women's     ┆ 1        ┆ 69.99  │\n",
       "│         ┆           ┆             ┆          ┆   ┆             ┆ Mountain    ┆          ┆        │\n",
       "│         ┆           ┆             ┆          ┆   ┆             ┆ Shorts, S   ┆          ┆        │\n",
       "│ 53673   ┆ 27364     ┆ Cedric Li   ┆ BestBuy  ┆ … ┆ 2024-01-08  ┆ Women's     ┆ 1        ┆ 69.99  │\n",
       "│         ┆           ┆             ┆          ┆   ┆             ┆ Mountain    ┆          ┆        │\n",
       "│         ┆           ┆             ┆          ┆   ┆             ┆ Shorts, L   ┆          ┆        │\n",
       "│ 53663   ┆ 12291     ┆ Johnathan   ┆ Alibaba  ┆ … ┆ 2024-01-11  ┆ Water       ┆ 1        ┆ 4.99   │\n",
       "│         ┆           ┆ Suri        ┆          ┆   ┆             ┆ Bottle - 30 ┆          ┆        │\n",
       "│         ┆           ┆             ┆          ┆   ┆             ┆ oz.         ┆          ┆        │\n",
       "│ 53665   ┆ 24537     ┆ Cynthia     ┆ GameStop ┆ … ┆ 2024-01-11  ┆ Water       ┆ 1        ┆ 4.99   │\n",
       "│         ┆           ┆ Saunders    ┆          ┆   ┆             ┆ Bottle - 30 ┆          ┆        │\n",
       "│         ┆           ┆             ┆          ┆   ┆             ┆ oz.         ┆          ┆        │\n",
       "│ 53672   ┆ 14683     ┆ Molly Sai   ┆ BestBuy  ┆ … ┆ 2024-01-03  ┆ Water       ┆ 1        ┆ 4.99   │\n",
       "│         ┆           ┆             ┆          ┆   ┆             ┆ Bottle - 30 ┆          ┆        │\n",
       "│         ┆           ┆             ┆          ┆   ┆             ┆ oz.         ┆          ┆        │\n",
       "└─────────┴───────────┴─────────────┴──────────┴───┴─────────────┴─────────────┴──────────┴────────┘"
      ]
     },
     "execution_count": 32,
     "metadata": {},
     "output_type": "execute_result"
    }
   ],
   "source": [
    "df=pl.concat(data.values(),how='vertical')  ##unir los df(listas)\n",
    "df.head()"
   ]
  },
  {
   "cell_type": "code",
   "execution_count": 22,
   "metadata": {},
   "outputs": [],
   "source": [
    "##df=df.with_columns(pl.col('Fecha Pedido').dt.strftime('%Y%m').alias('Periodo')).unique() ##valores unicos\n",
    "##pl.col('xx').cast(pl.Date)"
   ]
  },
  {
   "cell_type": "code",
   "execution_count": 30,
   "metadata": {},
   "outputs": [
    {
     "data": {
      "text/html": [
       "<div><style>\n",
       ".dataframe > thead > tr,\n",
       ".dataframe > tbody > tr {\n",
       "  text-align: right;\n",
       "  white-space: pre-wrap;\n",
       "}\n",
       "</style>\n",
       "<small>shape: (5, 10)</small><table border=\"1\" class=\"dataframe\"><thead><tr><th>Factura</th><th>ClienteID</th><th>Cliente</th><th>Tienda</th><th>Pais</th><th>Fecha Pedido</th><th>Fecha Entrega</th><th>Producto</th><th>Unidades</th><th>Precio</th></tr><tr><td>i64</td><td>i64</td><td>str</td><td>str</td><td>str</td><td>date</td><td>date</td><td>str</td><td>i64</td><td>f64</td></tr></thead><tbody><tr><td>53687</td><td>18812</td><td>&quot;Kyle Adams&quot;</td><td>&quot;ModCloth&quot;</td><td>&quot;Canada&quot;</td><td>2024-01-01</td><td>2024-01-12</td><td>&quot;Women&#x27;s Mountain Shorts, S&quot;</td><td>1</td><td>69.99</td></tr><tr><td>53673</td><td>27364</td><td>&quot;Cedric Li&quot;</td><td>&quot;BestBuy&quot;</td><td>&quot;Australia&quot;</td><td>2024-01-01</td><td>2024-01-08</td><td>&quot;Women&#x27;s Mountain Shorts, L&quot;</td><td>1</td><td>69.99</td></tr><tr><td>53663</td><td>12291</td><td>&quot;Johnathan Suri&quot;</td><td>&quot;Alibaba&quot;</td><td>&quot;Germany&quot;</td><td>2024-01-01</td><td>2024-01-11</td><td>&quot;Water Bottle - 30 oz.&quot;</td><td>1</td><td>4.99</td></tr><tr><td>53665</td><td>24537</td><td>&quot;Cynthia Saunders&quot;</td><td>&quot;GameStop&quot;</td><td>&quot;United Kingdom&quot;</td><td>2024-01-01</td><td>2024-01-11</td><td>&quot;Water Bottle - 30 oz.&quot;</td><td>1</td><td>4.99</td></tr><tr><td>53672</td><td>14683</td><td>&quot;Molly Sai&quot;</td><td>&quot;BestBuy&quot;</td><td>&quot;Australia&quot;</td><td>2024-01-01</td><td>2024-01-03</td><td>&quot;Water Bottle - 30 oz.&quot;</td><td>1</td><td>4.99</td></tr></tbody></table></div>"
      ],
      "text/plain": [
       "shape: (5, 10)\n",
       "┌─────────┬───────────┬─────────────┬──────────┬───┬─────────────┬─────────────┬──────────┬────────┐\n",
       "│ Factura ┆ ClienteID ┆ Cliente     ┆ Tienda   ┆ … ┆ Fecha       ┆ Producto    ┆ Unidades ┆ Precio │\n",
       "│ ---     ┆ ---       ┆ ---         ┆ ---      ┆   ┆ Entrega     ┆ ---         ┆ ---      ┆ ---    │\n",
       "│ i64     ┆ i64       ┆ str         ┆ str      ┆   ┆ ---         ┆ str         ┆ i64      ┆ f64    │\n",
       "│         ┆           ┆             ┆          ┆   ┆ date        ┆             ┆          ┆        │\n",
       "╞═════════╪═══════════╪═════════════╪══════════╪═══╪═════════════╪═════════════╪══════════╪════════╡\n",
       "│ 53687   ┆ 18812     ┆ Kyle Adams  ┆ ModCloth ┆ … ┆ 2024-01-12  ┆ Women's     ┆ 1        ┆ 69.99  │\n",
       "│         ┆           ┆             ┆          ┆   ┆             ┆ Mountain    ┆          ┆        │\n",
       "│         ┆           ┆             ┆          ┆   ┆             ┆ Shorts, S   ┆          ┆        │\n",
       "│ 53673   ┆ 27364     ┆ Cedric Li   ┆ BestBuy  ┆ … ┆ 2024-01-08  ┆ Women's     ┆ 1        ┆ 69.99  │\n",
       "│         ┆           ┆             ┆          ┆   ┆             ┆ Mountain    ┆          ┆        │\n",
       "│         ┆           ┆             ┆          ┆   ┆             ┆ Shorts, L   ┆          ┆        │\n",
       "│ 53663   ┆ 12291     ┆ Johnathan   ┆ Alibaba  ┆ … ┆ 2024-01-11  ┆ Water       ┆ 1        ┆ 4.99   │\n",
       "│         ┆           ┆ Suri        ┆          ┆   ┆             ┆ Bottle - 30 ┆          ┆        │\n",
       "│         ┆           ┆             ┆          ┆   ┆             ┆ oz.         ┆          ┆        │\n",
       "│ 53665   ┆ 24537     ┆ Cynthia     ┆ GameStop ┆ … ┆ 2024-01-11  ┆ Water       ┆ 1        ┆ 4.99   │\n",
       "│         ┆           ┆ Saunders    ┆          ┆   ┆             ┆ Bottle - 30 ┆          ┆        │\n",
       "│         ┆           ┆             ┆          ┆   ┆             ┆ oz.         ┆          ┆        │\n",
       "│ 53672   ┆ 14683     ┆ Molly Sai   ┆ BestBuy  ┆ … ┆ 2024-01-03  ┆ Water       ┆ 1        ┆ 4.99   │\n",
       "│         ┆           ┆             ┆          ┆   ┆             ┆ Bottle - 30 ┆          ┆        │\n",
       "│         ┆           ┆             ┆          ┆   ┆             ┆ oz.         ┆          ┆        │\n",
       "└─────────┴───────────┴─────────────┴──────────┴───┴─────────────┴─────────────┴──────────┴────────┘"
      ]
     },
     "execution_count": 30,
     "metadata": {},
     "output_type": "execute_result"
    }
   ],
   "source": [
    "df.head()"
   ]
  },
  {
   "cell_type": "code",
   "execution_count": 44,
   "metadata": {},
   "outputs": [
    {
     "data": {
      "text/html": [
       "<div><style>\n",
       ".dataframe > thead > tr,\n",
       ".dataframe > tbody > tr {\n",
       "  text-align: right;\n",
       "  white-space: pre-wrap;\n",
       "}\n",
       "</style>\n",
       "<small>shape: (3, 2)</small><table border=\"1\" class=\"dataframe\"><thead><tr><th>Periodo</th><th>Cantidad</th></tr><tr><td>str</td><td>u32</td></tr></thead><tbody><tr><td>&quot;202401&quot;</td><td>5900</td></tr><tr><td>&quot;202405&quot;</td><td>6753</td></tr><tr><td>&quot;202407&quot;</td><td>4281</td></tr></tbody></table></div>"
      ],
      "text/plain": [
       "shape: (3, 2)\n",
       "┌─────────┬──────────┐\n",
       "│ Periodo ┆ Cantidad │\n",
       "│ ---     ┆ ---      │\n",
       "│ str     ┆ u32      │\n",
       "╞═════════╪══════════╡\n",
       "│ 202401  ┆ 5900     │\n",
       "│ 202405  ┆ 6753     │\n",
       "│ 202407  ┆ 4281     │\n",
       "└─────────┴──────────┘"
      ]
     },
     "execution_count": 44,
     "metadata": {},
     "output_type": "execute_result"
    }
   ],
   "source": [
    "df.with_columns(pl.col('Fecha Pedido').dt.strftime('%Y%m').alias('Periodo')\n",
    "          ).group_by('Periodo'\n",
    "                              ).agg(\n",
    "                                  pl.col('Factura').count().alias('Cantidad')\n",
    "                              ).sort('Periodo',descending=False)\n"
   ]
  },
  {
   "cell_type": "code",
   "execution_count": 42,
   "metadata": {},
   "outputs": [
    {
     "data": {
      "text/html": [
       "<div><style>\n",
       ".dataframe > thead > tr,\n",
       ".dataframe > tbody > tr {\n",
       "  text-align: right;\n",
       "  white-space: pre-wrap;\n",
       "}\n",
       "</style>\n",
       "<small>shape: (5, 10)</small><table border=\"1\" class=\"dataframe\"><thead><tr><th>Factura</th><th>ClienteID</th><th>Cliente</th><th>Tienda</th><th>Pais</th><th>Fecha Pedido</th><th>Fecha Entrega</th><th>Producto</th><th>Unidades</th><th>Precio</th></tr><tr><td>i64</td><td>i64</td><td>str</td><td>str</td><td>str</td><td>date</td><td>date</td><td>str</td><td>i64</td><td>f64</td></tr></thead><tbody><tr><td>53687</td><td>18812</td><td>&quot;Kyle Adams&quot;</td><td>&quot;ModCloth&quot;</td><td>&quot;Canada&quot;</td><td>2024-01-01</td><td>2024-01-12</td><td>&quot;Women&#x27;s Mountain Shorts, S&quot;</td><td>1</td><td>69.99</td></tr><tr><td>53673</td><td>27364</td><td>&quot;Cedric Li&quot;</td><td>&quot;BestBuy&quot;</td><td>&quot;Australia&quot;</td><td>2024-01-01</td><td>2024-01-08</td><td>&quot;Women&#x27;s Mountain Shorts, L&quot;</td><td>1</td><td>69.99</td></tr><tr><td>53663</td><td>12291</td><td>&quot;Johnathan Suri&quot;</td><td>&quot;Alibaba&quot;</td><td>&quot;Germany&quot;</td><td>2024-01-01</td><td>2024-01-11</td><td>&quot;Water Bottle - 30 oz.&quot;</td><td>1</td><td>4.99</td></tr><tr><td>53665</td><td>24537</td><td>&quot;Cynthia Saunders&quot;</td><td>&quot;GameStop&quot;</td><td>&quot;United Kingdom&quot;</td><td>2024-01-01</td><td>2024-01-11</td><td>&quot;Water Bottle - 30 oz.&quot;</td><td>1</td><td>4.99</td></tr><tr><td>53672</td><td>14683</td><td>&quot;Molly Sai&quot;</td><td>&quot;BestBuy&quot;</td><td>&quot;Australia&quot;</td><td>2024-01-01</td><td>2024-01-03</td><td>&quot;Water Bottle - 30 oz.&quot;</td><td>1</td><td>4.99</td></tr></tbody></table></div>"
      ],
      "text/plain": [
       "shape: (5, 10)\n",
       "┌─────────┬───────────┬─────────────┬──────────┬───┬─────────────┬─────────────┬──────────┬────────┐\n",
       "│ Factura ┆ ClienteID ┆ Cliente     ┆ Tienda   ┆ … ┆ Fecha       ┆ Producto    ┆ Unidades ┆ Precio │\n",
       "│ ---     ┆ ---       ┆ ---         ┆ ---      ┆   ┆ Entrega     ┆ ---         ┆ ---      ┆ ---    │\n",
       "│ i64     ┆ i64       ┆ str         ┆ str      ┆   ┆ ---         ┆ str         ┆ i64      ┆ f64    │\n",
       "│         ┆           ┆             ┆          ┆   ┆ date        ┆             ┆          ┆        │\n",
       "╞═════════╪═══════════╪═════════════╪══════════╪═══╪═════════════╪═════════════╪══════════╪════════╡\n",
       "│ 53687   ┆ 18812     ┆ Kyle Adams  ┆ ModCloth ┆ … ┆ 2024-01-12  ┆ Women's     ┆ 1        ┆ 69.99  │\n",
       "│         ┆           ┆             ┆          ┆   ┆             ┆ Mountain    ┆          ┆        │\n",
       "│         ┆           ┆             ┆          ┆   ┆             ┆ Shorts, S   ┆          ┆        │\n",
       "│ 53673   ┆ 27364     ┆ Cedric Li   ┆ BestBuy  ┆ … ┆ 2024-01-08  ┆ Women's     ┆ 1        ┆ 69.99  │\n",
       "│         ┆           ┆             ┆          ┆   ┆             ┆ Mountain    ┆          ┆        │\n",
       "│         ┆           ┆             ┆          ┆   ┆             ┆ Shorts, L   ┆          ┆        │\n",
       "│ 53663   ┆ 12291     ┆ Johnathan   ┆ Alibaba  ┆ … ┆ 2024-01-11  ┆ Water       ┆ 1        ┆ 4.99   │\n",
       "│         ┆           ┆ Suri        ┆          ┆   ┆             ┆ Bottle - 30 ┆          ┆        │\n",
       "│         ┆           ┆             ┆          ┆   ┆             ┆ oz.         ┆          ┆        │\n",
       "│ 53665   ┆ 24537     ┆ Cynthia     ┆ GameStop ┆ … ┆ 2024-01-11  ┆ Water       ┆ 1        ┆ 4.99   │\n",
       "│         ┆           ┆ Saunders    ┆          ┆   ┆             ┆ Bottle - 30 ┆          ┆        │\n",
       "│         ┆           ┆             ┆          ┆   ┆             ┆ oz.         ┆          ┆        │\n",
       "│ 53672   ┆ 14683     ┆ Molly Sai   ┆ BestBuy  ┆ … ┆ 2024-01-03  ┆ Water       ┆ 1        ┆ 4.99   │\n",
       "│         ┆           ┆             ┆          ┆   ┆             ┆ Bottle - 30 ┆          ┆        │\n",
       "│         ┆           ┆             ┆          ┆   ┆             ┆ oz.         ┆          ┆        │\n",
       "└─────────┴───────────┴─────────────┴──────────┴───┴─────────────┴─────────────┴──────────┴────────┘"
      ]
     },
     "execution_count": 42,
     "metadata": {},
     "output_type": "execute_result"
    }
   ],
   "source": [
    "df.head()"
   ]
  },
  {
   "cell_type": "markdown",
   "metadata": {},
   "source": [
    "Como unimos todas las hojas de un excel"
   ]
  },
  {
   "cell_type": "code",
   "execution_count": 47,
   "metadata": {},
   "outputs": [
    {
     "data": {
      "text/html": [
       "<div><style>\n",
       ".dataframe > thead > tr,\n",
       ".dataframe > tbody > tr {\n",
       "  text-align: right;\n",
       "  white-space: pre-wrap;\n",
       "}\n",
       "</style>\n",
       "<small>shape: (11, 2)</small><table border=\"1\" class=\"dataframe\"><thead><tr><th>Periodo</th><th>Cantidad</th></tr><tr><td>str</td><td>u32</td></tr></thead><tbody><tr><td>&quot;202401&quot;</td><td>5900</td></tr><tr><td>&quot;202402&quot;</td><td>6890</td></tr><tr><td>&quot;202403&quot;</td><td>7431</td></tr><tr><td>&quot;202404&quot;</td><td>6410</td></tr><tr><td>&quot;202405&quot;</td><td>6753</td></tr><tr><td>&hellip;</td><td>&hellip;</td></tr><tr><td>&quot;202407&quot;</td><td>4281</td></tr><tr><td>&quot;202408&quot;</td><td>9955</td></tr><tr><td>&quot;202409&quot;</td><td>5302</td></tr><tr><td>&quot;202410&quot;</td><td>8626</td></tr><tr><td>&quot;202411&quot;</td><td>2130</td></tr></tbody></table></div>"
      ],
      "text/plain": [
       "shape: (11, 2)\n",
       "┌─────────┬──────────┐\n",
       "│ Periodo ┆ Cantidad │\n",
       "│ ---     ┆ ---      │\n",
       "│ str     ┆ u32      │\n",
       "╞═════════╪══════════╡\n",
       "│ 202401  ┆ 5900     │\n",
       "│ 202402  ┆ 6890     │\n",
       "│ 202403  ┆ 7431     │\n",
       "│ 202404  ┆ 6410     │\n",
       "│ 202405  ┆ 6753     │\n",
       "│ …       ┆ …        │\n",
       "│ 202407  ┆ 4281     │\n",
       "│ 202408  ┆ 9955     │\n",
       "│ 202409  ┆ 5302     │\n",
       "│ 202410  ┆ 8626     │\n",
       "│ 202411  ┆ 2130     │\n",
       "└─────────┴──────────┘"
      ]
     },
     "execution_count": 47,
     "metadata": {},
     "output_type": "execute_result"
    }
   ],
   "source": [
    "data=pl.read_excel('ReporteVentas.xlsx',sheet_id=0)\n",
    "df=pl.concat(data.values(),how='vertical')\n",
    "df.with_columns(pl.col('Fecha Pedido').dt.strftime('%Y%m').alias('Periodo')\n",
    "          ).group_by('Periodo'\n",
    "                              ).agg(\n",
    "                                  pl.col('Factura').count().alias('Cantidad')\n",
    "                              ).sort('Periodo',descending=False)"
   ]
  }
 ],
 "metadata": {
  "kernelspec": {
   "display_name": "vEdicion",
   "language": "python",
   "name": "python3"
  },
  "language_info": {
   "codemirror_mode": {
    "name": "ipython",
    "version": 3
   },
   "file_extension": ".py",
   "mimetype": "text/x-python",
   "name": "python",
   "nbconvert_exporter": "python",
   "pygments_lexer": "ipython3",
   "version": "3.12.3"
  }
 },
 "nbformat": 4,
 "nbformat_minor": 2
}
